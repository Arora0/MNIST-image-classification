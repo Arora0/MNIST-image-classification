{
 "cells": [
  {
   "cell_type": "markdown",
   "metadata": {},
   "source": [
    "# MNIST data classification with Multi-layer perceptron"
   ]
  },
  {
   "cell_type": "markdown",
   "metadata": {},
   "source": [
    "<img src=\"Neural.png\" width=\"450\" height=\"300\">"
   ]
  },
  {
   "cell_type": "markdown",
   "metadata": {},
   "source": [
    "$\\hspace{13cm}$Image: 3Blue1Brown"
   ]
  },
  {
   "cell_type": "markdown",
   "metadata": {},
   "source": [
    "## This is the \"Hello world\" example of Deep Learning. We build a multilayer perceptron using Pytorch to train the MNIST digit data. This data has been centered and normalized by the creaters and is also available on Yann LeCun's website. "
   ]
  },
  {
   "cell_type": "markdown",
   "metadata": {},
   "source": [
    "## Import libraries"
   ]
  },
  {
   "cell_type": "code",
   "execution_count": 1,
   "metadata": {},
   "outputs": [],
   "source": [
    "import numpy as np\n",
    "import matplotlib.pyplot as plt\n",
    "import torch\n",
    "import torchvision\n",
    "from torch import nn, optim\n",
    "from torchvision import datasets, transforms\n",
    "from sklearn.model_selection import train_test_split\n",
    "import os"
   ]
  },
  {
   "cell_type": "markdown",
   "metadata": {},
   "source": [
    "## Fetch the MNIST data prepared in the file provided"
   ]
  },
  {
   "cell_type": "code",
   "execution_count": 2,
   "metadata": {},
   "outputs": [
    {
     "name": "stdout",
     "output_type": "stream",
     "text": [
      "(20000, 1, 28, 28) float32\n",
      "(20000,) int64\n",
      "(2000, 1, 28, 28) float32\n"
     ]
    }
   ],
   "source": [
    "with np.load('prediction-challenge-01-data.npz') as fh:\n",
    "    data_x = fh['data_x']\n",
    "    data_y = fh['data_y']\n",
    "    test_x = fh['test_x']\n",
    "\n",
    "# TRAINING DATA: INPUT (x) AND OUTPUT (y)\n",
    "# 1. INDEX: IMAGE SERIAL NUMBER\n",
    "# 2. INDEX: COLOR CHANNEL\n",
    "# 3/4. INDEX: PIXEL VALUE\n",
    "print(data_x.shape, data_x.dtype)\n",
    "print(data_y.shape, data_y.dtype)\n",
    "\n",
    "# TEST DATA: INPUT (x) ONLY\n",
    "print(test_x.shape, test_x.dtype)"
   ]
  },
  {
   "cell_type": "markdown",
   "metadata": {},
   "source": [
    "## Let's have a look at a few images with their labels"
   ]
  },
  {
   "cell_type": "code",
   "execution_count": 17,
   "metadata": {},
   "outputs": [
    {
     "data": {
      "image/png": "[encoded data removed]",
      "text/plain": [
       "<Figure size 720x504 with 6 Axes>"
      ]
     },
     "metadata": {
      "needs_background": "light"
     },
     "output_type": "display_data"
    }
   ],
   "source": [
    "plt.figure(figsize=(10,7))\n",
    "for i in range(5,11):\n",
    "    plt.subplot(2,3,i-4)\n",
    "    plt.imshow(data_x[i,0])\n",
    "    plt.title(data_y[i])\n",
    "    plt.tight_layout()"
   ]
  },
  {
   "cell_type": "markdown",
   "metadata": {},
   "source": [
    "## This particular step is not required as our data set already comes with the necessary transformation."
   ]
  },
  {
   "cell_type": "code",
   "execution_count": 18,
   "metadata": {},
   "outputs": [],
   "source": [
    "#For data transformation. The data is rendered normalised and is converted into torch tensors.\n",
    "transformer= transforms.Compose([transforms.ToTensor(),transforms.Normalize((0.5,),(0.5,)),])"
   ]
  },
  {
   "cell_type": "markdown",
   "metadata": {},
   "source": [
    "## Data splitting for training and validation."
   ]
  },
  {
   "cell_type": "code",
   "execution_count": 19,
   "metadata": {},
   "outputs": [],
   "source": [
    "X_train, X_val, y_train, y_val = train_test_split(data_x, data_y, test_size=0.1,shuffle=True, random_state=42)"
   ]
  },
  {
   "cell_type": "code",
   "execution_count": 20,
   "metadata": {},
   "outputs": [
    {
     "data": {
      "text/plain": [
       "((18000, 1, 28, 28), (2000,))"
      ]
     },
     "execution_count": 20,
     "metadata": {},
     "output_type": "execute_result"
    }
   ],
   "source": [
    "X_train.shape, y_val.shape"
   ]
  },
  {
   "cell_type": "code",
   "execution_count": 21,
   "metadata": {},
   "outputs": [],
   "source": [
    "#Conversion into torch tensors\n",
    "X_train= torch.from_numpy(X_train)\n",
    "y_train= torch.from_numpy(y_train)\n",
    "X_val= torch.from_numpy(X_val)\n",
    "y_val= torch.from_numpy(y_val)\n",
    "Predict= torch.from_numpy(test_x)"
   ]
  },
  {
   "cell_type": "code",
   "execution_count": 22,
   "metadata": {},
   "outputs": [],
   "source": [
    "#Defining the layer sizes.\n",
    "input_size= 784 #28x28 \n",
    "hidden= [128, 64]\n",
    "output_size= 10"
   ]
  },
  {
   "cell_type": "markdown",
   "metadata": {},
   "source": [
    "## Model definition: The model consists of an input layer, a single hidden layer and an output layer. The acivation functions are chosen to be ReLU and LogSoftmax for one-hot encoding."
   ]
  },
  {
   "cell_type": "code",
   "execution_count": 23,
   "metadata": {},
   "outputs": [
    {
     "name": "stdout",
     "output_type": "stream",
     "text": [
      "Sequential(\n",
      "  (0): Linear(in_features=784, out_features=128, bias=True)\n",
      "  (1): ReLU()\n",
      "  (2): Linear(in_features=128, out_features=64, bias=True)\n",
      "  (3): ReLU()\n",
      "  (4): Linear(in_features=64, out_features=10, bias=True)\n",
      "  (5): LogSoftmax(dim=1)\n",
      ")\n"
     ]
    }
   ],
   "source": [
    "model= nn.Sequential(nn.Linear(input_size, hidden[0]),\n",
    "                    nn.ReLU(),\n",
    "                    nn.Linear(hidden[0], hidden[1]),\n",
    "                    nn.ReLU(),\n",
    "                    nn.Linear(hidden[1], output_size),\n",
    "                    nn.LogSoftmax(dim=1))\n",
    "print(model)"
   ]
  },
  {
   "cell_type": "code",
   "execution_count": 24,
   "metadata": {},
   "outputs": [],
   "source": [
    "optimizer= optim.SGD(model.parameters(), lr= 0.003, momentum=0.9) #Defining the optimizer with Stochastic Gradient Descent\n",
    "criterion= nn.NLLLoss() #Negative log likelihood loss"
   ]
  },
  {
   "cell_type": "code",
   "execution_count": 25,
   "metadata": {},
   "outputs": [],
   "source": [
    "def get_batches(datax, datay, num_batches=64):\n",
    "    '''Takes in the images and labels and divides them \n",
    "    into batches as specified.'''\n",
    "    batchesX= torch.split(datax,int(len(datax)/num_batches))\n",
    "    batchesY= torch.split(datay,int(len(datay)/num_batches))\n",
    "    return batchesX, batchesY"
   ]
  },
  {
   "cell_type": "markdown",
   "metadata": {},
   "source": [
    "## Training: The number of epochs, i.e the number of times the entire data is traversed is set to 200."
   ]
  },
  {
   "cell_type": "code",
   "execution_count": 26,
   "metadata": {},
   "outputs": [
    {
     "name": "stdout",
     "output_type": "stream",
     "text": [
      "Epoch 0 --> Training loss 0.7880118622898631\n",
      "Epoch 1 --> Training loss 0.31311829573743283\n",
      "Epoch 2 --> Training loss 0.2665375479599759\n",
      "Epoch 3 --> Training loss 0.18077177498688476\n",
      "Epoch 4 --> Training loss 0.10697900734550164\n",
      "Epoch 5 --> Training loss 0.0787147481352409\n",
      "Epoch 6 --> Training loss 0.06536216743529055\n",
      "Epoch 7 --> Training loss 0.05936453788411999\n",
      "Epoch 8 --> Training loss 0.0538479051953745\n",
      "Epoch 9 --> Training loss 0.048450089865148704\n",
      "Epoch 10 --> Training loss 0.043379953747542305\n",
      "Epoch 11 --> Training loss 0.03967108338196294\n",
      "Epoch 12 --> Training loss 0.03692625836200773\n",
      "Epoch 13 --> Training loss 0.03556652204713576\n",
      "Epoch 14 --> Training loss 0.03415899172929046\n",
      "Epoch 15 --> Training loss 0.03402045628990567\n",
      "Epoch 16 --> Training loss 0.03234496243377597\n",
      "Epoch 17 --> Training loss 0.03291888820053844\n",
      "Epoch 18 --> Training loss 0.033839980001127166\n",
      "Epoch 19 --> Training loss 0.031141459623689752\n",
      "Epoch 20 --> Training loss 0.03060115075063663\n",
      "Epoch 21 --> Training loss 0.03202488366183013\n",
      "Epoch 22 --> Training loss 0.0313295523215125\n",
      "Epoch 23 --> Training loss 0.03068361970930761\n",
      "Epoch 24 --> Training loss 0.0327133857661666\n",
      "Epoch 25 --> Training loss 0.031391852800452626\n",
      "Epoch 26 --> Training loss 0.02954827461166314\n",
      "Epoch 27 --> Training loss 0.027307813344158736\n",
      "Epoch 28 --> Training loss 0.022927307742531825\n",
      "Epoch 29 --> Training loss 0.022452510260310674\n",
      "Epoch 30 --> Training loss 0.02088179020542532\n",
      "Epoch 31 --> Training loss 0.01997825075802642\n",
      "Epoch 32 --> Training loss 0.0177084709719831\n",
      "Epoch 33 --> Training loss 0.01855653677851598\n",
      "Epoch 34 --> Training loss 0.01692054078837996\n",
      "Epoch 35 --> Training loss 0.01413057025462336\n",
      "Epoch 36 --> Training loss 0.014311890942259986\n",
      "Epoch 37 --> Training loss 0.016077743782504424\n",
      "Epoch 38 --> Training loss 0.014802374915978822\n",
      "Epoch 39 --> Training loss 0.014732578350065336\n",
      "Epoch 40 --> Training loss 0.014303453975884091\n",
      "Epoch 41 --> Training loss 0.015499042985079233\n",
      "Epoch 42 --> Training loss 0.016642951476139107\n",
      "Epoch 43 --> Training loss 0.020422374919136437\n",
      "Epoch 44 --> Training loss 0.0157015631273654\n",
      "Epoch 45 --> Training loss 0.015054692186952115\n",
      "Epoch 46 --> Training loss 0.013028600802512514\n",
      "Epoch 47 --> Training loss 0.012601457165845825\n",
      "Epoch 48 --> Training loss 0.012649507832703482\n",
      "Epoch 49 --> Training loss 0.012896146534136711\n",
      "Epoch 50 --> Training loss 0.012950756735818003\n",
      "Epoch 51 --> Training loss 0.013613967721274262\n",
      "Epoch 52 --> Training loss 0.014335626935970795\n",
      "Epoch 53 --> Training loss 0.012943445900046525\n",
      "Epoch 54 --> Training loss 0.01138024673705218\n",
      "Epoch 55 --> Training loss 0.014013928970449613\n",
      "Epoch 56 --> Training loss 0.014003702400735285\n",
      "Epoch 57 --> Training loss 0.013231051182917078\n",
      "Epoch 58 --> Training loss 0.010846902652779508\n",
      "Epoch 59 --> Training loss 0.012430923021882374\n",
      "Epoch 60 --> Training loss 0.013898565005440617\n",
      "Epoch 61 --> Training loss 0.01447555548726876\n",
      "Epoch 62 --> Training loss 0.011838947436577572\n",
      "Epoch 63 --> Training loss 0.00967497765409737\n",
      "Epoch 64 --> Training loss 0.011355681792143947\n",
      "Epoch 65 --> Training loss 0.009899857217882838\n",
      "Epoch 66 --> Training loss 0.009172562899207199\n",
      "Epoch 67 --> Training loss 0.010604893933282336\n",
      "Epoch 68 --> Training loss 0.008864477780992265\n",
      "Epoch 69 --> Training loss 0.008115329412520562\n",
      "Epoch 70 --> Training loss 0.008025320675902982\n",
      "Epoch 71 --> Training loss 0.00813567130012335\n",
      "Epoch 72 --> Training loss 0.008198610545895013\n",
      "Epoch 73 --> Training loss 0.011203217175362977\n",
      "Epoch 74 --> Training loss 0.00993369166798114\n",
      "Epoch 75 --> Training loss 0.009076297457588445\n",
      "Epoch 76 --> Training loss 0.008010269626266624\n",
      "Epoch 77 --> Training loss 0.010466387641810985\n",
      "Epoch 78 --> Training loss 0.009933648287945053\n",
      "Epoch 79 --> Training loss 0.008604276708030602\n",
      "Epoch 80 --> Training loss 0.008244990122386874\n",
      "Epoch 81 --> Training loss 0.008409876083902139\n",
      "Epoch 82 --> Training loss 0.00719494766844072\n",
      "Epoch 83 --> Training loss 0.008533856523259678\n",
      "Epoch 84 --> Training loss 0.009608667485561299\n",
      "Epoch 85 --> Training loss 0.007489340679585504\n",
      "Epoch 86 --> Training loss 0.0077016036056681845\n",
      "Epoch 87 --> Training loss 0.006807106429140508\n",
      "Epoch 88 --> Training loss 0.012309064994586028\n",
      "Epoch 89 --> Training loss 0.007620037134265626\n",
      "Epoch 90 --> Training loss 0.008297020470972291\n",
      "Epoch 91 --> Training loss 0.011788334542566626\n",
      "Epoch 92 --> Training loss 0.010110642116014657\n",
      "Epoch 93 --> Training loss 0.007808577442851193\n",
      "Epoch 94 --> Training loss 0.007096414391516486\n",
      "Epoch 95 --> Training loss 0.005949054610629829\n",
      "Epoch 96 --> Training loss 0.005064990047594944\n",
      "Epoch 97 --> Training loss 0.005856741000703466\n",
      "Epoch 98 --> Training loss 0.005100623415539135\n",
      "Epoch 99 --> Training loss 0.004080363649964412\n",
      "Epoch 100 --> Training loss 0.0053467885105108835\n",
      "Epoch 101 --> Training loss 0.004283482531165154\n",
      "Epoch 102 --> Training loss 0.004273200958629149\n",
      "Epoch 103 --> Training loss 0.003638906050404576\n",
      "Epoch 104 --> Training loss 0.006558285776721203\n",
      "Epoch 105 --> Training loss 0.012173358821615254\n",
      "Epoch 106 --> Training loss 0.007312546023327171\n",
      "Epoch 107 --> Training loss 0.005916611507914936\n",
      "Epoch 108 --> Training loss 0.004853221929314782\n",
      "Epoch 109 --> Training loss 0.0036718716044276184\n",
      "Epoch 110 --> Training loss 0.0028161086888612644\n",
      "Epoch 111 --> Training loss 0.002577257534426685\n",
      "Epoch 112 --> Training loss 0.0029314936658001284\n",
      "Epoch 113 --> Training loss 0.0033508253721288303\n",
      "Epoch 114 --> Training loss 0.0023886609065501365\n",
      "Epoch 115 --> Training loss 0.003101081265160628\n",
      "Epoch 116 --> Training loss 0.0030401318647906087\n",
      "Epoch 117 --> Training loss 0.0064250156470844555\n",
      "Epoch 118 --> Training loss 0.0075625922926579586\n",
      "Epoch 119 --> Training loss 0.0045770943472159395\n",
      "Epoch 120 --> Training loss 0.00280565070123014\n",
      "Epoch 121 --> Training loss 0.0035021319791113874\n",
      "Epoch 122 --> Training loss 0.00506488466254718\n",
      "Epoch 123 --> Training loss 0.005014474249011555\n",
      "Epoch 124 --> Training loss 0.005367073102960768\n",
      "Epoch 125 --> Training loss 0.002709192050868141\n",
      "Epoch 126 --> Training loss 0.002190416957603045\n",
      "Epoch 127 --> Training loss 0.002096108316271516\n",
      "Epoch 128 --> Training loss 0.001606334606232163\n",
      "Epoch 129 --> Training loss 0.0021960795735573692\n",
      "Epoch 130 --> Training loss 0.001748821262348513\n",
      "Epoch 131 --> Training loss 0.0020177990326927593\n",
      "Epoch 132 --> Training loss 0.0018422703753354763\n",
      "Epoch 133 --> Training loss 0.0021551254897035975\n",
      "Epoch 134 --> Training loss 0.0018159789001903483\n",
      "Epoch 135 --> Training loss 0.003798430865705002\n",
      "Epoch 136 --> Training loss 0.005848334967103324\n",
      "Epoch 137 --> Training loss 0.010326927689299908\n",
      "Epoch 138 --> Training loss 0.008331162395442985\n",
      "Epoch 139 --> Training loss 0.00850730989268381\n",
      "Epoch 140 --> Training loss 0.009253861716439988\n",
      "Epoch 141 --> Training loss 0.010356904916238252\n",
      "Epoch 142 --> Training loss 0.01059111331347575\n",
      "Epoch 143 --> Training loss 0.0061631110789527425\n",
      "Epoch 144 --> Training loss 0.004723870770161661\n",
      "Epoch 145 --> Training loss 0.0071202356830909206\n",
      "Epoch 146 --> Training loss 0.005888305071565166\n",
      "Epoch 147 --> Training loss 0.005020622547642987\n",
      "Epoch 148 --> Training loss 0.004793150392087555\n",
      "Epoch 149 --> Training loss 0.0037345358163862635\n",
      "Epoch 150 --> Training loss 0.0061230503070935464\n",
      "Epoch 151 --> Training loss 0.008401471367677561\n",
      "Epoch 152 --> Training loss 0.008161562358321675\n",
      "Epoch 153 --> Training loss 0.004810337013856249\n",
      "Epoch 154 --> Training loss 0.0074454572376521115\n",
      "Epoch 155 --> Training loss 0.00715923679610271\n",
      "Epoch 156 --> Training loss 0.007828012186430273\n",
      "Epoch 157 --> Training loss 0.0035637843075002878\n",
      "Epoch 158 --> Training loss 0.0027176328089371575\n",
      "Epoch 159 --> Training loss 0.002552263815420161\n",
      "Epoch 160 --> Training loss 0.0016070253332274977\n",
      "Epoch 161 --> Training loss 0.001583362499697737\n",
      "Epoch 162 --> Training loss 0.0016699283382310773\n",
      "Epoch 163 --> Training loss 0.0018324429537775275\n",
      "Epoch 164 --> Training loss 0.002862508777559348\n",
      "Epoch 165 --> Training loss 0.0027691589212894886\n",
      "Epoch 166 --> Training loss 0.002101581125654267\n",
      "Epoch 167 --> Training loss 0.003328683733838499\n",
      "Epoch 168 --> Training loss 0.002286092997622645\n",
      "Epoch 169 --> Training loss 0.0020327936929196546\n"
     ]
    },
    {
     "name": "stdout",
     "output_type": "stream",
     "text": [
      "Epoch 170 --> Training loss 0.0015826180843643567\n",
      "Epoch 171 --> Training loss 0.001196037514476341\n",
      "Epoch 172 --> Training loss 0.001023422572731738\n",
      "Epoch 173 --> Training loss 0.0008067818405047757\n",
      "Epoch 174 --> Training loss 0.0006811937707370363\n",
      "Epoch 175 --> Training loss 0.0005566492814829233\n",
      "Epoch 176 --> Training loss 0.0008859285656098144\n",
      "Epoch 177 --> Training loss 0.0015514328854735683\n",
      "Epoch 178 --> Training loss 0.0007863478136735651\n",
      "Epoch 179 --> Training loss 0.0002694313877465823\n",
      "Epoch 180 --> Training loss 0.0003562627937970714\n",
      "Epoch 181 --> Training loss 0.0001991148439517223\n",
      "Epoch 182 --> Training loss 0.00015577912639559488\n",
      "Epoch 183 --> Training loss 0.00014402558205229166\n",
      "Epoch 184 --> Training loss 0.00014185693910684873\n",
      "Epoch 185 --> Training loss 0.00015335999020678313\n",
      "Epoch 186 --> Training loss 0.00013157094582356713\n",
      "Epoch 187 --> Training loss 0.0001292516323500749\n",
      "Epoch 188 --> Training loss 0.00012139230631576173\n",
      "Epoch 189 --> Training loss 0.00012198834801213406\n",
      "Epoch 190 --> Training loss 0.00011346701546011693\n",
      "Epoch 191 --> Training loss 0.00011325169123413088\n",
      "Epoch 192 --> Training loss 0.00010769920117389353\n",
      "Epoch 193 --> Training loss 0.00011028781852321791\n",
      "Epoch 194 --> Training loss 0.000106786926527122\n",
      "Epoch 195 --> Training loss 0.00010700085679954653\n",
      "Epoch 196 --> Training loss 0.00010088558008960895\n",
      "Epoch 197 --> Training loss 0.00010352473180552104\n",
      "Epoch 198 --> Training loss 9.727450693882356e-05\n",
      "Epoch 199 --> Training loss 9.405469536690996e-05\n"
     ]
    }
   ],
   "source": [
    "#Training the Model\n",
    "epochs= 200\n",
    "for e in range(epochs):\n",
    "    running_loss=0\n",
    "    losses= []\n",
    "    batchesX, batchesY= get_batches(X_train, y_train)\n",
    "    for i in range(len(batchesX)):\n",
    "        x= torch.flatten(batchesX[i], start_dim=1)\n",
    "        y= batchesY[i]\n",
    "        optimizer.zero_grad()\n",
    "        \n",
    "        output= model(x)\n",
    "        loss= criterion(output, y)\n",
    "        \n",
    "        #Back propagation\n",
    "        loss.backward()\n",
    "        \n",
    "        #Learning\n",
    "        optimizer.step()\n",
    "        \n",
    "        running_loss+= loss.item()\n",
    "        losses.append(loss.item())\n",
    "    print(\"Epoch {} --> Training loss {}\".format(e, running_loss/len(batchesX[0])))\n",
    "    "
   ]
  },
  {
   "cell_type": "markdown",
   "metadata": {},
   "source": [
    "## Let's run the model for a single image"
   ]
  },
  {
   "cell_type": "code",
   "execution_count": 33,
   "metadata": {},
   "outputs": [],
   "source": [
    "index= np.random.randint(1,len(X_val))\n",
    "image= torch.flatten(X_val[index], start_dim=1)"
   ]
  },
  {
   "cell_type": "code",
   "execution_count": 34,
   "metadata": {},
   "outputs": [],
   "source": [
    "with torch.no_grad():  #Saving time, since no gradients are needed.\n",
    "    logp= model(image) #Log probability\n",
    "prob= torch.exp(logp)"
   ]
  },
  {
   "cell_type": "code",
   "execution_count": 36,
   "metadata": {},
   "outputs": [
    {
     "data": {
      "text/plain": [
       "<matplotlib.image.AxesImage at 0x19296818b48>"
      ]
     },
     "execution_count": 36,
     "metadata": {},
     "output_type": "execute_result"
    },
    {
     "data": {
      "image/png": "[encoded data removed]",
      "text/plain": [
       "<Figure size 432x288 with 1 Axes>"
      ]
     },
     "metadata": {
      "needs_background": "light"
     },
     "output_type": "display_data"
    }
   ],
   "source": [
    "plt.imshow(X_val[index,0])"
   ]
  },
  {
   "cell_type": "code",
   "execution_count": 37,
   "metadata": {},
   "outputs": [
    {
     "name": "stdout",
     "output_type": "stream",
     "text": [
      "The predicted digit: 5\n",
      "The true label: 5\n"
     ]
    }
   ],
   "source": [
    "probabilities= list(prob.numpy()[0])\n",
    "print(\"The predicted digit:\", probabilities.index(max(probabilities)))\n",
    "print(\"The true label:\", int(y_val[index]))"
   ]
  },
  {
   "cell_type": "code",
   "execution_count": 38,
   "metadata": {},
   "outputs": [],
   "source": [
    "#Determining the accuracy of the model from the validation set.\n",
    "correct= 0\n",
    "wrong= 0\n",
    "errors=[]\n",
    "for i in range(len(X_val)):\n",
    "    image= torch.flatten(X_val[i], start_dim=1)\n",
    "    with torch.no_grad():\n",
    "        logps= model(image)\n",
    "    #Since the probabilites are logarithmic\n",
    "    ps= torch.exp(logps)\n",
    "    prob= list(ps.numpy()[0])\n",
    "    prediction= prob.index(max(prob))\n",
    "    if prediction==y_val[i]:\n",
    "        correct+=1\n",
    "    else:\n",
    "        wrong+=1\n",
    "        errors.append((i,prediction))"
   ]
  },
  {
   "cell_type": "code",
   "execution_count": 39,
   "metadata": {},
   "outputs": [
    {
     "name": "stdout",
     "output_type": "stream",
     "text": [
      "The number of correct predictions are 1880 out of 2000\n",
      "The model accuracy is:  0.94\n"
     ]
    }
   ],
   "source": [
    "print(\"The number of correct predictions are {} out of {}\".format(correct, len(X_val)))\n",
    "print(\"The model accuracy is: \", correct/len(X_val))"
   ]
  },
  {
   "cell_type": "markdown",
   "metadata": {},
   "source": [
    "## Let's have a look at some of the wrong perdictions "
   ]
  },
  {
   "cell_type": "code",
   "execution_count": 80,
   "metadata": {},
   "outputs": [
    {
     "data": {
      "image/png": "[encoded data removed]",
      "text/plain": [
       "<Figure size 720x504 with 9 Axes>"
      ]
     },
     "metadata": {
      "needs_background": "light"
     },
     "output_type": "display_data"
    }
   ],
   "source": [
    "fig, axs= plt.subplots(nrows=3, ncols=3, figsize=(10,7))\n",
    "axs= axs.ravel()\n",
    "for i in range(9):\n",
    "    ind= np.random.randint(0, len(errors))\n",
    "    image_index= errors[ind][0]\n",
    "    image_pred= errors[ind][1]\n",
    "    axs[i].imshow(X_val[image_index,0])\n",
    "    axs[i].set_title(image_pred)\n",
    "plt.tight_layout()"
   ]
  },
  {
   "cell_type": "markdown",
   "metadata": {},
   "source": [
    "## The model is run for a given test data set to which the labels aren't known."
   ]
  },
  {
   "cell_type": "code",
   "execution_count": 40,
   "metadata": {},
   "outputs": [],
   "source": [
    "#Predicting the labels for the given test data set.\n",
    "labels=[]\n",
    "for i in range(len(Predict)):\n",
    "    image= torch.flatten(Predict[i], start_dim=1)\n",
    "    with torch.no_grad():\n",
    "        logps= model(image)\n",
    "    #Since the probabilites are logarithmic\n",
    "    ps= torch.exp(logps)\n",
    "    prob= list(ps.numpy()[0])\n",
    "    prediction= prob.index(max(prob))\n",
    "    labels.append(prediction)"
   ]
  },
  {
   "cell_type": "code",
   "execution_count": 41,
   "metadata": {},
   "outputs": [
    {
     "data": {
      "image/png": "[encoded data removed]",
      "text/plain": [
       "<Figure size 504x360 with 15 Axes>"
      ]
     },
     "metadata": {
      "needs_background": "light"
     },
     "output_type": "display_data"
    }
   ],
   "source": [
    "# A look at the predictions made on the test images.\n",
    "fig, axs= plt.subplots(3,5, figsize= (7,5))\n",
    "axs= axs.ravel()\n",
    "for i in range(15):\n",
    "    index= np.random.randint(0,len(Predict))\n",
    "    axs[i].imshow(Predict[index,0])\n",
    "    axs[i].set_title(labels[index])\n",
    "plt.tight_layout()"
   ]
  },
  {
   "cell_type": "code",
   "execution_count": 42,
   "metadata": {},
   "outputs": [],
   "source": [
    "predictions= np.asarray(labels)"
   ]
  },
  {
   "cell_type": "code",
   "execution_count": 43,
   "metadata": {},
   "outputs": [],
   "source": [
    "assert predictions.ndim==1\n",
    "assert predictions.shape[0]==2000"
   ]
  },
  {
   "cell_type": "code",
   "execution_count": 44,
   "metadata": {},
   "outputs": [],
   "source": [
    "#An optional step to save the results.\n",
    "np.save('prediction.npy', predictions)"
   ]
  }
 ],
 "metadata": {
  "kernelspec": {
   "display_name": "Python 3",
   "language": "python",
   "name": "python3"
  },
  "language_info": {
   "codemirror_mode": {
    "name": "ipython",
    "version": 3
   },
   "file_extension": ".py",
   "mimetype": "text/x-python",
   "name": "python",
   "nbconvert_exporter": "python",
   "pygments_lexer": "ipython3",
   "version": "3.7.10"
  }
 },
 "nbformat": 4,
 "nbformat_minor": 4
}
